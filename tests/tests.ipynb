{
 "cells": [
  {
   "cell_type": "code",
   "execution_count": null,
   "id": "c2d5a1a5",
   "metadata": {},
   "outputs": [],
   "source": [
    "from src.georag.retriever import DisasterKB\n",
    "KB = DisasterKB(\"geokb/.index\")\n",
    "print(KB.query(\"flooded roads and brown water\", k=3))"
   ]
  },
  {
   "cell_type": "code",
   "execution_count": null,
   "id": "38099237",
   "metadata": {},
   "outputs": [],
   "source": [
    "from PIL import Image\n",
    "from src.vlm.rs_llava import RSLLaVA\n",
    "m = RSLLaVA()\n",
    "im = Image.new(\"RGB\",(256,256),(128,128,128))\n",
    "out = m.infer_json(im, \"Say only: {\\\"is_disaster\\\": false, \\\"type\\\": null, \\\"confidence\\\": 0.0, \\\"rationale\\\":\\\"test\\\",\\\"evidence_ids\\\":[]}\")\n",
    "print(\"Model returned:\", out[:120], \"...\")"
   ]
  },
  {
   "cell_type": "code",
   "execution_count": null,
   "id": "82682146",
   "metadata": {},
   "outputs": [],
   "source": [
    "from PIL import Image\n",
    "from src.vlm.qwen2vl import Qwen2VL, Qwen2VLConfig\n",
    "m = Qwen2VL(Qwen2VLConfig(max_new_tokens=32))\n",
    "im = Image.new(\"RGB\", (512, 512), (127,127,127))\n",
    "out = m.infer_json(im, 'Reply with strictly valid JSON: {\"ok\": true, \"note\":\"qwen2 smoke test\"}')\n",
    "print(out)"
   ]
  },
  {
   "cell_type": "code",
   "execution_count": null,
   "id": "aae83b25",
   "metadata": {},
   "outputs": [],
   "source": [
    "export TE_TRACK3_TEST_WDS=\"/home/<user>/github/ThinkingEarth_Hackathon_BiDS25/track3/test/00015.tar\"\n",
    "export TE_TRACK3_TEST_WDS=\"/home/<user>/github/ThinkingEarth_Hackathon_BiDS25/track3/test\"\n",
    "python -m src.runners.run_test_split_wds"
   ]
  }
 ],
 "metadata": {
  "kernelspec": {
   "display_name": "venv",
   "language": "python",
   "name": "python3"
  },
  "language_info": {
   "codemirror_mode": {
    "name": "ipython",
    "version": 3
   },
   "file_extension": ".py",
   "mimetype": "text/x-python",
   "name": "python",
   "nbconvert_exporter": "python",
   "pygments_lexer": "ipython3",
   "version": "3.12.3"
  }
 },
 "nbformat": 4,
 "nbformat_minor": 5
}
